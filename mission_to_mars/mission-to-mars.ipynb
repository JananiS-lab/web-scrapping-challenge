{
 "cells": [
  {
   "cell_type": "markdown",
   "metadata": {
    "toc": true
   },
   "source": [
    "<h1>Contents<span class=\"tocSkip\"></span></h1>\n",
    "<div class=\"toc\"><ul class=\"toc-item\"><li><span><a href=\"#NASA-Mars-News\" data-toc-modified-id=\"NASA-Mars-News-1\"><span class=\"toc-item-num\">1&nbsp;&nbsp;</span>NASA Mars News</a></span><ul class=\"toc-item\"><li><span><a href=\"#Importing-the-Dependencies\" data-toc-modified-id=\"Importing-the-Dependencies-1.1\"><span class=\"toc-item-num\">1.1&nbsp;&nbsp;</span>Importing the Dependencies</a></span></li><li><span><a href=\"#Creating-an-executable-path-using-splinters\" data-toc-modified-id=\"Creating-an-executable-path-using-splinters-1.2\"><span class=\"toc-item-num\">1.2&nbsp;&nbsp;</span>Creating an executable path using splinters</a></span></li><li><span><a href=\"#Storing-the-URL-in-a-variable.\" data-toc-modified-id=\"Storing-the-URL-in-a-variable.-1.3\"><span class=\"toc-item-num\">1.3&nbsp;&nbsp;</span>Storing the URL in a variable.</a></span></li><li><span><a href=\"#Collecting-the-latest-news-title-and-storing-it-in-a-variable.\" data-toc-modified-id=\"Collecting-the-latest-news-title-and-storing-it-in-a-variable.-1.4\"><span class=\"toc-item-num\">1.4&nbsp;&nbsp;</span>Collecting the latest news title and storing it in a variable.</a></span></li><li><span><a href=\"#Printing-the-paragraph\" data-toc-modified-id=\"Printing-the-paragraph-1.5\"><span class=\"toc-item-num\">1.5&nbsp;&nbsp;</span>Printing the paragraph</a></span></li></ul></li><li><span><a href=\"#JPL-Mars-Space-Images---Featured-Image\" data-toc-modified-id=\"JPL-Mars-Space-Images---Featured-Image-2\"><span class=\"toc-item-num\">2&nbsp;&nbsp;</span>JPL Mars Space Images - Featured Image</a></span><ul class=\"toc-item\"><li><span><a href=\"#Creating-an-executable-path-using-splinters\" data-toc-modified-id=\"Creating-an-executable-path-using-splinters-2.1\"><span class=\"toc-item-num\">2.1&nbsp;&nbsp;</span>Creating an executable path using splinters</a></span></li><li><span><a href=\"#Storing-the-URL-in-a-variable\" data-toc-modified-id=\"Storing-the-URL-in-a-variable-2.2\"><span class=\"toc-item-num\">2.2&nbsp;&nbsp;</span>Storing the URL in a variable</a></span></li></ul></li><li><span><a href=\"#Mars-Weather\" data-toc-modified-id=\"Mars-Weather-3\"><span class=\"toc-item-num\">3&nbsp;&nbsp;</span>Mars Weather</a></span><ul class=\"toc-item\"><li><span><a href=\"#Creating-an-executable-path-using-splinters\" data-toc-modified-id=\"Creating-an-executable-path-using-splinters-3.1\"><span class=\"toc-item-num\">3.1&nbsp;&nbsp;</span>Creating an executable path using splinters</a></span></li><li><span><a href=\"#Assigning-a-variable-tot-he-URL\" data-toc-modified-id=\"Assigning-a-variable-tot-he-URL-3.2\"><span class=\"toc-item-num\">3.2&nbsp;&nbsp;</span>Assigning a variable tot he URL</a></span></li><li><span><a href=\"#Retrieving-the-current-weather-from-twitter-tweets\" data-toc-modified-id=\"Retrieving-the-current-weather-from-twitter-tweets-3.3\"><span class=\"toc-item-num\">3.3&nbsp;&nbsp;</span>Retrieving the current weather from twitter tweets</a></span></li></ul></li><li><span><a href=\"#Mars-Facts\" data-toc-modified-id=\"Mars-Facts-4\"><span class=\"toc-item-num\">4&nbsp;&nbsp;</span>Mars Facts</a></span><ul class=\"toc-item\"><li><span><a href=\"#Assigning-a-variable-to-the-URL\" data-toc-modified-id=\"Assigning-a-variable-to-the-URL-4.1\"><span class=\"toc-item-num\">4.1&nbsp;&nbsp;</span>Assigning a variable to the URL</a></span></li><li><span><a href=\"#Writing-the-dataframe-into-a-html-for-easy-access-in-webpage\" data-toc-modified-id=\"Writing-the-dataframe-into-a-html-for-easy-access-in-webpage-4.2\"><span class=\"toc-item-num\">4.2&nbsp;&nbsp;</span>Writing the dataframe into a html for easy access in webpage</a></span></li></ul></li><li><span><a href=\"#Mars-Hemispheres\" data-toc-modified-id=\"Mars-Hemispheres-5\"><span class=\"toc-item-num\">5&nbsp;&nbsp;</span>Mars Hemispheres</a></span><ul class=\"toc-item\"><li><span><a href=\"#Creating-an-executable-path-using-splinters\" data-toc-modified-id=\"Creating-an-executable-path-using-splinters-5.1\"><span class=\"toc-item-num\">5.1&nbsp;&nbsp;</span>Creating an executable path using splinters</a></span></li><li><span><a href=\"#Assigning-a-variable-to-the-URL\" data-toc-modified-id=\"Assigning-a-variable-to-the-URL-5.2\"><span class=\"toc-item-num\">5.2&nbsp;&nbsp;</span>Assigning a variable to the URL</a></span></li></ul></li></ul></div>"
   ]
  },
  {
   "cell_type": "markdown",
   "metadata": {},
   "source": [
    "### NASA Mars News"
   ]
  },
  {
   "cell_type": "markdown",
   "metadata": {},
   "source": [
    "#### Importing the Dependencies"
   ]
  },
  {
   "cell_type": "code",
   "execution_count": 36,
   "metadata": {},
   "outputs": [],
   "source": [
    "from bs4 import BeautifulSoup as bs\n",
    "from splinter import Browser\n",
    "import requests\n",
    "import os\n",
    "import pandas as pd\n",
    "import numpy as np\n",
    "from pandas import *\n"
   ]
  },
  {
   "cell_type": "markdown",
   "metadata": {},
   "source": [
    "#### Creating an executable path using splinters"
   ]
  },
  {
   "cell_type": "code",
   "execution_count": 8,
   "metadata": {},
   "outputs": [],
   "source": [
    "executable_path = {'executable_path': 'chromedriver.exe'}\n",
    "browser = Browser('chrome', **executable_path, headless=False)"
   ]
  },
  {
   "cell_type": "markdown",
   "metadata": {},
   "source": [
    "#### Storing the URL in a variable."
   ]
  },
  {
   "cell_type": "code",
   "execution_count": 9,
   "metadata": {},
   "outputs": [],
   "source": [
    "url = 'https://mars.nasa.gov/news/'\n",
    "browser.visit(url)"
   ]
  },
  {
   "cell_type": "markdown",
   "metadata": {},
   "source": [
    "#### Collecting the latest news title and storing it in a variable. "
   ]
  },
  {
   "cell_type": "code",
   "execution_count": 13,
   "metadata": {},
   "outputs": [
    {
     "name": "stdout",
     "output_type": "stream",
     "text": [
      "The Extraordinary Sample-Gathering System of NASA's Perseverance Mars Rover\n",
      "The Extraordinary Sample-Gathering System of NASA's Perseverance Mars Rover\n",
      "The Extraordinary Sample-Gathering System of NASA's Perseverance Mars Rover\n",
      "The Extraordinary Sample-Gathering System of NASA's Perseverance Mars Rover\n",
      "The Extraordinary Sample-Gathering System of NASA's Perseverance Mars Rover\n"
     ]
    }
   ],
   "source": [
    "for x in range (1, 6):\n",
    "    html = browser.html\n",
    "    soup= bs(html, 'html.parser')\n",
    "    \n",
    "    quotes = soup.find_all('div', class_='content_title')[1]\n",
    "    \n",
    "    for quote in quotes:\n",
    "        print(quote.text)\n",
    "        \n",
    "    "
   ]
  },
  {
   "cell_type": "markdown",
   "metadata": {},
   "source": [
    "#### Printing the paragraph "
   ]
  },
  {
   "cell_type": "code",
   "execution_count": 14,
   "metadata": {},
   "outputs": [
    {
     "name": "stdout",
     "output_type": "stream",
     "text": [
      "\n",
      "\n",
      "Two astronauts collected Moon rocks on Apollo 11. It will take three robotic systems working together to gather up the first Mars rock samples for return to Earth.\n",
      "\n",
      "The samples Apollo 11 brought back to Earth from the Moon were humanity's first from another celestial body. NASA's upcoming Mars 2020 Perseverance rover mission will collect the first samples from another planet (the red one) for return to Earth by subsequent missions. In place of astronauts, the Perseverance rover will rely on the most complex, capable and cleanest mechanism ever to be sent into space, the Sample Caching System.\n",
      "The final 39 of the 43 sample tubes at the heart of the sample system were loaded, along with the storage assembly that will hold them, aboard NASA's Perseverance rover on May 20 at Kennedy Space Center in Florida. (The other four tubes had already been loaded into different locations in the Sample Caching System.) The integration of the final tubes marks another key step in preparation for the opening of the rover's launch period on July 17.\n",
      "\"While you cannot help but marvel at what was achieved back in the days of Apollo, they did have one thing going for them we don't: boots on the ground,\" said Adam Steltzner, chief engineer for the Mars 2020 Perseverance rover mission at NASA's Jet Propulsion Laboratory in Southern California. \"For us to collect the first samples of Mars for return to Earth, in place of two astronauts we have three robots that have to work with the precision of a Swiss watch.\"\n",
      "\n",
      "\n",
      "\n",
      "\n",
      "\n",
      "Mars 2020 Perseverance Rover Sample Cache System: Engineers test the Sample Caching System on the Perseverance Mars rover. Described as one of the most complex robotic systems ever built, the Sample and Caching System will collect core samples from the rocky surface of Mars, seal them in tubes and leave them for a future mission to retrieve and bring back to Earth. Credits: NASA/JPL-Caltech. Download video ›\n",
      "\n",
      "\n",
      "While many people think of the Perseverance rover as one robot, it's actually akin to a collection of robots working together. Located on the front of the Perseverance rover, the Sample Caching System itself is composed of three robots, the most visible being the rover's 7-foot-long (2-meter-long) robotic arm. Bolted to the front of the rover's chassis, the five-jointed arm carries a large turret that includes a rotary percussive drill to collect core samples of Mars rock and regolith (broken rock and dust).\n",
      "The second robot looks like a small flying saucer built into the front of the rover. Called the bit carousel, this appliance is the ultimate middleman for all Mars sample transactions: It will provide drill bits and empty sample tubes to the drill and will later move the sample-filled tubes into the rover chassis for assessment and processing.\n",
      "The third robot in the Sample Caching System is the 1.6-foot-long (0.5 meter-long) sample handling arm (known by the team as the \"T. rex arm\"). Located in the belly of the rover, it picks up where the bit carousel leaves off, moving sample tubes between storage and documentation stations as well as the bit carousel.\n",
      "Clocklike Precision\n",
      "All of these robots need to run with clocklike precision. But where the typical Swiss chronometer has fewer than 400 parts, the Sample Caching System has more than 3,000.\n",
      "\"It sounds like a lot, but you begin to realize the need for complexity when you consider the Sample Caching System is tasked with autonomously drilling into Mars rock, pulling out intact core samples and then sealing them hermetically in hyper-sterile vessels that are essentially free of any Earth-originating organic material that could get in the way of future analysis,\" said Steltzner. \"In terms of technology, it is the most complicated, most sophisticated mechanism that we have ever built, tested and readied for spaceflight.\"\n",
      "The mission's goal is to collect a dozen or more samples. So how does this three-robot, steamer-trunk-sized labyrinthine collection of motors, planetary gearboxes, encoders and other devices all meticulously work together to take them?\n",
      "\n",
      "\n",
      "\n",
      "\n",
      "\n",
      "\n",
      "Tubes for Mars: Engineers and technicians working on the Mars 2020 Perseverance team insert 39 sample tubes into the belly of the rover. Credit: NASA/JPL-Caltech. Download image ›\n",
      "\n",
      "\n",
      "\n",
      "\"Essentially, after our rotary percussive drill takes a core sample, it will turn around and dock with one of the four docking cones of the bit carousel,\" said Steltzner. \"Then the bit carousel rotates that Mars-filled drill bit and a sample tube down inside the rover to a location where our sample handling arm can grab it. That arm pulls the filled sample tube out of the drill bit and takes it to be imaged by a camera inside the Sample Caching System.\"\n",
      "After the sample tube is imaged, the small robotic arm moves it to the volume assessment station, where a ramrod pushes down into the sample to gauge its size. \"Then we go back and take another image,\" said Steltzner. \"After that, we pick up a seal — a little plug — for the top of the sample tube and go back to take yet another image.\"\n",
      "Next, the Sample Caching System places the tube in the sealing station, where a mechanism hermetically seals the tube with the cap. \"Then we take the tube out,\" added Steltzner, \"and we return it to storage from where it first began.\"\n",
      "Getting the system designed and manufactured, then integrated into Perseverance has been a seven-year endeavor. And the work isn't done. As with everything else on the rover, there are two versions of the Sample Caching System: an engineering test model that will stay here on Earth and the flight model that will travel to Mars.\n",
      "\"The engineering model is identical in every way possible to the flight model, and it's our job to try to break it,\" said Kelly Palm, the Sample Caching System integration engineer and Mars 2020 test lead at JPL. \"We do that because we would rather see things wear out or break on Earth than on Mars. So we put the engineering test model through its paces to inform our use of its flight twin on Mars.\"\n",
      "To that end, the team uses different rocks to simulate types of terrain. They drill them from various angles to anticipate any imaginable situation the rover could be in where the science team might want to gather a sample.\n",
      "\"Every once in a while, I have to take a minute and contemplate what we are doing,\" said Palm. \"Just a few years ago I was in college. Now I am working on the system that will be responsible for collecting the first samples from another planet for return to Earth. That is pretty awesome.\"\n",
      "About the Mission\n",
      "Perseverance is a robotic scientist weighing about 2,260 pounds (1,025 kilograms). The rover's astrobiology mission will search for signs of past microbial life. It will characterize the planet's climate and geology, collect samples for future return to Earth, and pave the way for human exploration of the Red Planet. No matter what day Perseverance lifts off during its July 17-Aug. 11 launch period, it will land at Mars' Jezero Crater on Feb. 18, 2021.\n",
      "The two subsequent (follow-on) missions required to return the mission's collected samples to Earth are currently being planned by NASA and the European Space Agency.\n",
      "The Mars 2020 Perseverance rover mission is part of a larger program that includes missions to the Moon as a way to prepare for human exploration of the Red Planet. Charged with returning astronauts to the Moon by 2024, NASA will establish a sustained human presence on and around the Moon by 2028 through the agency's Artemis lunar exploration plans.\n",
      "For more about Perseverance:\n",
      "https://mars.nasa.gov/mars2020/\n",
      "https://nasa.gov/perseverance\n",
      "News Media Contact\n",
      "DC Agle\n",
      "Jet Propulsion Laboratory, Pasadena, Calif.\n",
      "818-393-9011\n",
      "agle@jpl.nasa.gov\n",
      "\n",
      "Alana Johnson / Grey Hautaluoma\n",
      "NASA Headquarters, Washington\n",
      "202-672-4780 / 202-358-0668\n",
      "alana.r.johnson@nasa.gov / grey.hautaluoma-1@nasa.gov\n",
      "\n",
      "\n",
      "\n",
      "Two astronauts collected Moon rocks on Apollo 11. It will take three robotic systems working together to gather up the first Mars rock samples for return to Earth.\n",
      "\n",
      "The samples Apollo 11 brought back to Earth from the Moon were humanity's first from another celestial body. NASA's upcoming Mars 2020 Perseverance rover mission will collect the first samples from another planet (the red one) for return to Earth by subsequent missions. In place of astronauts, the Perseverance rover will rely on the most complex, capable and cleanest mechanism ever to be sent into space, the Sample Caching System.\n",
      "The final 39 of the 43 sample tubes at the heart of the sample system were loaded, along with the storage assembly that will hold them, aboard NASA's Perseverance rover on May 20 at Kennedy Space Center in Florida. (The other four tubes had already been loaded into different locations in the Sample Caching System.) The integration of the final tubes marks another key step in preparation for the opening of the rover's launch period on July 17.\n",
      "\"While you cannot help but marvel at what was achieved back in the days of Apollo, they did have one thing going for them we don't: boots on the ground,\" said Adam Steltzner, chief engineer for the Mars 2020 Perseverance rover mission at NASA's Jet Propulsion Laboratory in Southern California. \"For us to collect the first samples of Mars for return to Earth, in place of two astronauts we have three robots that have to work with the precision of a Swiss watch.\"\n",
      "\n",
      "\n",
      "\n",
      "\n",
      "\n",
      "Mars 2020 Perseverance Rover Sample Cache System: Engineers test the Sample Caching System on the Perseverance Mars rover. Described as one of the most complex robotic systems ever built, the Sample and Caching System will collect core samples from the rocky surface of Mars, seal them in tubes and leave them for a future mission to retrieve and bring back to Earth. Credits: NASA/JPL-Caltech. Download video ›\n",
      "\n",
      "\n",
      "While many people think of the Perseverance rover as one robot, it's actually akin to a collection of robots working together. Located on the front of the Perseverance rover, the Sample Caching System itself is composed of three robots, the most visible being the rover's 7-foot-long (2-meter-long) robotic arm. Bolted to the front of the rover's chassis, the five-jointed arm carries a large turret that includes a rotary percussive drill to collect core samples of Mars rock and regolith (broken rock and dust).\n",
      "The second robot looks like a small flying saucer built into the front of the rover. Called the bit carousel, this appliance is the ultimate middleman for all Mars sample transactions: It will provide drill bits and empty sample tubes to the drill and will later move the sample-filled tubes into the rover chassis for assessment and processing.\n",
      "The third robot in the Sample Caching System is the 1.6-foot-long (0.5 meter-long) sample handling arm (known by the team as the \"T. rex arm\"). Located in the belly of the rover, it picks up where the bit carousel leaves off, moving sample tubes between storage and documentation stations as well as the bit carousel.\n",
      "Clocklike Precision\n",
      "All of these robots need to run with clocklike precision. But where the typical Swiss chronometer has fewer than 400 parts, the Sample Caching System has more than 3,000.\n",
      "\"It sounds like a lot, but you begin to realize the need for complexity when you consider the Sample Caching System is tasked with autonomously drilling into Mars rock, pulling out intact core samples and then sealing them hermetically in hyper-sterile vessels that are essentially free of any Earth-originating organic material that could get in the way of future analysis,\" said Steltzner. \"In terms of technology, it is the most complicated, most sophisticated mechanism that we have ever built, tested and readied for spaceflight.\"\n",
      "The mission's goal is to collect a dozen or more samples. So how does this three-robot, steamer-trunk-sized labyrinthine collection of motors, planetary gearboxes, encoders and other devices all meticulously work together to take them?\n",
      "\n",
      "\n",
      "\n",
      "\n",
      "\n",
      "\n",
      "Tubes for Mars: Engineers and technicians working on the Mars 2020 Perseverance team insert 39 sample tubes into the belly of the rover. Credit: NASA/JPL-Caltech. Download image ›\n",
      "\n",
      "\n",
      "\n",
      "\"Essentially, after our rotary percussive drill takes a core sample, it will turn around and dock with one of the four docking cones of the bit carousel,\" said Steltzner. \"Then the bit carousel rotates that Mars-filled drill bit and a sample tube down inside the rover to a location where our sample handling arm can grab it. That arm pulls the filled sample tube out of the drill bit and takes it to be imaged by a camera inside the Sample Caching System.\"\n",
      "After the sample tube is imaged, the small robotic arm moves it to the volume assessment station, where a ramrod pushes down into the sample to gauge its size. \"Then we go back and take another image,\" said Steltzner. \"After that, we pick up a seal — a little plug — for the top of the sample tube and go back to take yet another image.\"\n",
      "Next, the Sample Caching System places the tube in the sealing station, where a mechanism hermetically seals the tube with the cap. \"Then we take the tube out,\" added Steltzner, \"and we return it to storage from where it first began.\"\n",
      "Getting the system designed and manufactured, then integrated into Perseverance has been a seven-year endeavor. And the work isn't done. As with everything else on the rover, there are two versions of the Sample Caching System: an engineering test model that will stay here on Earth and the flight model that will travel to Mars.\n",
      "\"The engineering model is identical in every way possible to the flight model, and it's our job to try to break it,\" said Kelly Palm, the Sample Caching System integration engineer and Mars 2020 test lead at JPL. \"We do that because we would rather see things wear out or break on Earth than on Mars. So we put the engineering test model through its paces to inform our use of its flight twin on Mars.\"\n",
      "To that end, the team uses different rocks to simulate types of terrain. They drill them from various angles to anticipate any imaginable situation the rover could be in where the science team might want to gather a sample.\n",
      "\"Every once in a while, I have to take a minute and contemplate what we are doing,\" said Palm. \"Just a few years ago I was in college. Now I am working on the system that will be responsible for collecting the first samples from another planet for return to Earth. That is pretty awesome.\"\n",
      "About the Mission\n",
      "Perseverance is a robotic scientist weighing about 2,260 pounds (1,025 kilograms). The rover's astrobiology mission will search for signs of past microbial life. It will characterize the planet's climate and geology, collect samples for future return to Earth, and pave the way for human exploration of the Red Planet. No matter what day Perseverance lifts off during its July 17-Aug. 11 launch period, it will land at Mars' Jezero Crater on Feb. 18, 2021.\n",
      "The two subsequent (follow-on) missions required to return the mission's collected samples to Earth are currently being planned by NASA and the European Space Agency.\n",
      "The Mars 2020 Perseverance rover mission is part of a larger program that includes missions to the Moon as a way to prepare for human exploration of the Red Planet. Charged with returning astronauts to the Moon by 2024, NASA will establish a sustained human presence on and around the Moon by 2028 through the agency's Artemis lunar exploration plans.\n",
      "For more about Perseverance:\n",
      "https://mars.nasa.gov/mars2020/\n",
      "https://nasa.gov/perseverance\n",
      "News Media Contact\n",
      "DC Agle\n",
      "Jet Propulsion Laboratory, Pasadena, Calif.\n",
      "818-393-9011\n",
      "agle@jpl.nasa.gov\n",
      "\n",
      "Alana Johnson / Grey Hautaluoma\n",
      "NASA Headquarters, Washington\n",
      "202-672-4780 / 202-358-0668\n",
      "alana.r.johnson@nasa.gov / grey.hautaluoma-1@nasa.gov\n",
      "\n"
     ]
    },
    {
     "name": "stdout",
     "output_type": "stream",
     "text": [
      "\n",
      "\n",
      "Two astronauts collected Moon rocks on Apollo 11. It will take three robotic systems working together to gather up the first Mars rock samples for return to Earth.\n",
      "\n",
      "The samples Apollo 11 brought back to Earth from the Moon were humanity's first from another celestial body. NASA's upcoming Mars 2020 Perseverance rover mission will collect the first samples from another planet (the red one) for return to Earth by subsequent missions. In place of astronauts, the Perseverance rover will rely on the most complex, capable and cleanest mechanism ever to be sent into space, the Sample Caching System.\n",
      "The final 39 of the 43 sample tubes at the heart of the sample system were loaded, along with the storage assembly that will hold them, aboard NASA's Perseverance rover on May 20 at Kennedy Space Center in Florida. (The other four tubes had already been loaded into different locations in the Sample Caching System.) The integration of the final tubes marks another key step in preparation for the opening of the rover's launch period on July 17.\n",
      "\"While you cannot help but marvel at what was achieved back in the days of Apollo, they did have one thing going for them we don't: boots on the ground,\" said Adam Steltzner, chief engineer for the Mars 2020 Perseverance rover mission at NASA's Jet Propulsion Laboratory in Southern California. \"For us to collect the first samples of Mars for return to Earth, in place of two astronauts we have three robots that have to work with the precision of a Swiss watch.\"\n",
      "\n",
      "\n",
      "\n",
      "\n",
      "\n",
      "Mars 2020 Perseverance Rover Sample Cache System: Engineers test the Sample Caching System on the Perseverance Mars rover. Described as one of the most complex robotic systems ever built, the Sample and Caching System will collect core samples from the rocky surface of Mars, seal them in tubes and leave them for a future mission to retrieve and bring back to Earth. Credits: NASA/JPL-Caltech. Download video ›\n",
      "\n",
      "\n",
      "While many people think of the Perseverance rover as one robot, it's actually akin to a collection of robots working together. Located on the front of the Perseverance rover, the Sample Caching System itself is composed of three robots, the most visible being the rover's 7-foot-long (2-meter-long) robotic arm. Bolted to the front of the rover's chassis, the five-jointed arm carries a large turret that includes a rotary percussive drill to collect core samples of Mars rock and regolith (broken rock and dust).\n",
      "The second robot looks like a small flying saucer built into the front of the rover. Called the bit carousel, this appliance is the ultimate middleman for all Mars sample transactions: It will provide drill bits and empty sample tubes to the drill and will later move the sample-filled tubes into the rover chassis for assessment and processing.\n",
      "The third robot in the Sample Caching System is the 1.6-foot-long (0.5 meter-long) sample handling arm (known by the team as the \"T. rex arm\"). Located in the belly of the rover, it picks up where the bit carousel leaves off, moving sample tubes between storage and documentation stations as well as the bit carousel.\n",
      "Clocklike Precision\n",
      "All of these robots need to run with clocklike precision. But where the typical Swiss chronometer has fewer than 400 parts, the Sample Caching System has more than 3,000.\n",
      "\"It sounds like a lot, but you begin to realize the need for complexity when you consider the Sample Caching System is tasked with autonomously drilling into Mars rock, pulling out intact core samples and then sealing them hermetically in hyper-sterile vessels that are essentially free of any Earth-originating organic material that could get in the way of future analysis,\" said Steltzner. \"In terms of technology, it is the most complicated, most sophisticated mechanism that we have ever built, tested and readied for spaceflight.\"\n",
      "The mission's goal is to collect a dozen or more samples. So how does this three-robot, steamer-trunk-sized labyrinthine collection of motors, planetary gearboxes, encoders and other devices all meticulously work together to take them?\n",
      "\n",
      "\n",
      "\n",
      "\n",
      "\n",
      "\n",
      "Tubes for Mars: Engineers and technicians working on the Mars 2020 Perseverance team insert 39 sample tubes into the belly of the rover. Credit: NASA/JPL-Caltech. Download image ›\n",
      "\n",
      "\n",
      "\n",
      "\"Essentially, after our rotary percussive drill takes a core sample, it will turn around and dock with one of the four docking cones of the bit carousel,\" said Steltzner. \"Then the bit carousel rotates that Mars-filled drill bit and a sample tube down inside the rover to a location where our sample handling arm can grab it. That arm pulls the filled sample tube out of the drill bit and takes it to be imaged by a camera inside the Sample Caching System.\"\n",
      "After the sample tube is imaged, the small robotic arm moves it to the volume assessment station, where a ramrod pushes down into the sample to gauge its size. \"Then we go back and take another image,\" said Steltzner. \"After that, we pick up a seal — a little plug — for the top of the sample tube and go back to take yet another image.\"\n",
      "Next, the Sample Caching System places the tube in the sealing station, where a mechanism hermetically seals the tube with the cap. \"Then we take the tube out,\" added Steltzner, \"and we return it to storage from where it first began.\"\n",
      "Getting the system designed and manufactured, then integrated into Perseverance has been a seven-year endeavor. And the work isn't done. As with everything else on the rover, there are two versions of the Sample Caching System: an engineering test model that will stay here on Earth and the flight model that will travel to Mars.\n",
      "\"The engineering model is identical in every way possible to the flight model, and it's our job to try to break it,\" said Kelly Palm, the Sample Caching System integration engineer and Mars 2020 test lead at JPL. \"We do that because we would rather see things wear out or break on Earth than on Mars. So we put the engineering test model through its paces to inform our use of its flight twin on Mars.\"\n",
      "To that end, the team uses different rocks to simulate types of terrain. They drill them from various angles to anticipate any imaginable situation the rover could be in where the science team might want to gather a sample.\n",
      "\"Every once in a while, I have to take a minute and contemplate what we are doing,\" said Palm. \"Just a few years ago I was in college. Now I am working on the system that will be responsible for collecting the first samples from another planet for return to Earth. That is pretty awesome.\"\n",
      "About the Mission\n",
      "Perseverance is a robotic scientist weighing about 2,260 pounds (1,025 kilograms). The rover's astrobiology mission will search for signs of past microbial life. It will characterize the planet's climate and geology, collect samples for future return to Earth, and pave the way for human exploration of the Red Planet. No matter what day Perseverance lifts off during its July 17-Aug. 11 launch period, it will land at Mars' Jezero Crater on Feb. 18, 2021.\n",
      "The two subsequent (follow-on) missions required to return the mission's collected samples to Earth are currently being planned by NASA and the European Space Agency.\n",
      "The Mars 2020 Perseverance rover mission is part of a larger program that includes missions to the Moon as a way to prepare for human exploration of the Red Planet. Charged with returning astronauts to the Moon by 2024, NASA will establish a sustained human presence on and around the Moon by 2028 through the agency's Artemis lunar exploration plans.\n",
      "For more about Perseverance:\n",
      "https://mars.nasa.gov/mars2020/\n",
      "https://nasa.gov/perseverance\n",
      "News Media Contact\n",
      "DC Agle\n",
      "Jet Propulsion Laboratory, Pasadena, Calif.\n",
      "818-393-9011\n",
      "agle@jpl.nasa.gov\n",
      "\n",
      "Alana Johnson / Grey Hautaluoma\n",
      "NASA Headquarters, Washington\n",
      "202-672-4780 / 202-358-0668\n",
      "alana.r.johnson@nasa.gov / grey.hautaluoma-1@nasa.gov\n",
      "\n",
      "\n",
      "\n",
      "Two astronauts collected Moon rocks on Apollo 11. It will take three robotic systems working together to gather up the first Mars rock samples for return to Earth.\n",
      "\n",
      "The samples Apollo 11 brought back to Earth from the Moon were humanity's first from another celestial body. NASA's upcoming Mars 2020 Perseverance rover mission will collect the first samples from another planet (the red one) for return to Earth by subsequent missions. In place of astronauts, the Perseverance rover will rely on the most complex, capable and cleanest mechanism ever to be sent into space, the Sample Caching System.\n",
      "The final 39 of the 43 sample tubes at the heart of the sample system were loaded, along with the storage assembly that will hold them, aboard NASA's Perseverance rover on May 20 at Kennedy Space Center in Florida. (The other four tubes had already been loaded into different locations in the Sample Caching System.) The integration of the final tubes marks another key step in preparation for the opening of the rover's launch period on July 17.\n",
      "\"While you cannot help but marvel at what was achieved back in the days of Apollo, they did have one thing going for them we don't: boots on the ground,\" said Adam Steltzner, chief engineer for the Mars 2020 Perseverance rover mission at NASA's Jet Propulsion Laboratory in Southern California. \"For us to collect the first samples of Mars for return to Earth, in place of two astronauts we have three robots that have to work with the precision of a Swiss watch.\"\n",
      "\n",
      "\n",
      "\n",
      "\n",
      "\n",
      "Mars 2020 Perseverance Rover Sample Cache System: Engineers test the Sample Caching System on the Perseverance Mars rover. Described as one of the most complex robotic systems ever built, the Sample and Caching System will collect core samples from the rocky surface of Mars, seal them in tubes and leave them for a future mission to retrieve and bring back to Earth. Credits: NASA/JPL-Caltech. Download video ›\n",
      "\n",
      "\n",
      "While many people think of the Perseverance rover as one robot, it's actually akin to a collection of robots working together. Located on the front of the Perseverance rover, the Sample Caching System itself is composed of three robots, the most visible being the rover's 7-foot-long (2-meter-long) robotic arm. Bolted to the front of the rover's chassis, the five-jointed arm carries a large turret that includes a rotary percussive drill to collect core samples of Mars rock and regolith (broken rock and dust).\n",
      "The second robot looks like a small flying saucer built into the front of the rover. Called the bit carousel, this appliance is the ultimate middleman for all Mars sample transactions: It will provide drill bits and empty sample tubes to the drill and will later move the sample-filled tubes into the rover chassis for assessment and processing.\n",
      "The third robot in the Sample Caching System is the 1.6-foot-long (0.5 meter-long) sample handling arm (known by the team as the \"T. rex arm\"). Located in the belly of the rover, it picks up where the bit carousel leaves off, moving sample tubes between storage and documentation stations as well as the bit carousel.\n",
      "Clocklike Precision\n",
      "All of these robots need to run with clocklike precision. But where the typical Swiss chronometer has fewer than 400 parts, the Sample Caching System has more than 3,000.\n",
      "\"It sounds like a lot, but you begin to realize the need for complexity when you consider the Sample Caching System is tasked with autonomously drilling into Mars rock, pulling out intact core samples and then sealing them hermetically in hyper-sterile vessels that are essentially free of any Earth-originating organic material that could get in the way of future analysis,\" said Steltzner. \"In terms of technology, it is the most complicated, most sophisticated mechanism that we have ever built, tested and readied for spaceflight.\"\n",
      "The mission's goal is to collect a dozen or more samples. So how does this three-robot, steamer-trunk-sized labyrinthine collection of motors, planetary gearboxes, encoders and other devices all meticulously work together to take them?\n",
      "\n",
      "\n",
      "\n",
      "\n",
      "\n",
      "\n",
      "Tubes for Mars: Engineers and technicians working on the Mars 2020 Perseverance team insert 39 sample tubes into the belly of the rover. Credit: NASA/JPL-Caltech. Download image ›\n",
      "\n",
      "\n",
      "\n",
      "\"Essentially, after our rotary percussive drill takes a core sample, it will turn around and dock with one of the four docking cones of the bit carousel,\" said Steltzner. \"Then the bit carousel rotates that Mars-filled drill bit and a sample tube down inside the rover to a location where our sample handling arm can grab it. That arm pulls the filled sample tube out of the drill bit and takes it to be imaged by a camera inside the Sample Caching System.\"\n",
      "After the sample tube is imaged, the small robotic arm moves it to the volume assessment station, where a ramrod pushes down into the sample to gauge its size. \"Then we go back and take another image,\" said Steltzner. \"After that, we pick up a seal — a little plug — for the top of the sample tube and go back to take yet another image.\"\n",
      "Next, the Sample Caching System places the tube in the sealing station, where a mechanism hermetically seals the tube with the cap. \"Then we take the tube out,\" added Steltzner, \"and we return it to storage from where it first began.\"\n",
      "Getting the system designed and manufactured, then integrated into Perseverance has been a seven-year endeavor. And the work isn't done. As with everything else on the rover, there are two versions of the Sample Caching System: an engineering test model that will stay here on Earth and the flight model that will travel to Mars.\n",
      "\"The engineering model is identical in every way possible to the flight model, and it's our job to try to break it,\" said Kelly Palm, the Sample Caching System integration engineer and Mars 2020 test lead at JPL. \"We do that because we would rather see things wear out or break on Earth than on Mars. So we put the engineering test model through its paces to inform our use of its flight twin on Mars.\"\n",
      "To that end, the team uses different rocks to simulate types of terrain. They drill them from various angles to anticipate any imaginable situation the rover could be in where the science team might want to gather a sample.\n",
      "\"Every once in a while, I have to take a minute and contemplate what we are doing,\" said Palm. \"Just a few years ago I was in college. Now I am working on the system that will be responsible for collecting the first samples from another planet for return to Earth. That is pretty awesome.\"\n",
      "About the Mission\n",
      "Perseverance is a robotic scientist weighing about 2,260 pounds (1,025 kilograms). The rover's astrobiology mission will search for signs of past microbial life. It will characterize the planet's climate and geology, collect samples for future return to Earth, and pave the way for human exploration of the Red Planet. No matter what day Perseverance lifts off during its July 17-Aug. 11 launch period, it will land at Mars' Jezero Crater on Feb. 18, 2021.\n",
      "The two subsequent (follow-on) missions required to return the mission's collected samples to Earth are currently being planned by NASA and the European Space Agency.\n",
      "The Mars 2020 Perseverance rover mission is part of a larger program that includes missions to the Moon as a way to prepare for human exploration of the Red Planet. Charged with returning astronauts to the Moon by 2024, NASA will establish a sustained human presence on and around the Moon by 2028 through the agency's Artemis lunar exploration plans.\n",
      "For more about Perseverance:\n",
      "https://mars.nasa.gov/mars2020/\n",
      "https://nasa.gov/perseverance\n",
      "News Media Contact\n",
      "DC Agle\n",
      "Jet Propulsion Laboratory, Pasadena, Calif.\n",
      "818-393-9011\n",
      "agle@jpl.nasa.gov\n",
      "\n",
      "Alana Johnson / Grey Hautaluoma\n",
      "NASA Headquarters, Washington\n",
      "202-672-4780 / 202-358-0668\n",
      "alana.r.johnson@nasa.gov / grey.hautaluoma-1@nasa.gov\n",
      "\n"
     ]
    },
    {
     "name": "stdout",
     "output_type": "stream",
     "text": [
      "\n",
      "\n",
      "Two astronauts collected Moon rocks on Apollo 11. It will take three robotic systems working together to gather up the first Mars rock samples for return to Earth.\n",
      "\n",
      "The samples Apollo 11 brought back to Earth from the Moon were humanity's first from another celestial body. NASA's upcoming Mars 2020 Perseverance rover mission will collect the first samples from another planet (the red one) for return to Earth by subsequent missions. In place of astronauts, the Perseverance rover will rely on the most complex, capable and cleanest mechanism ever to be sent into space, the Sample Caching System.\n",
      "The final 39 of the 43 sample tubes at the heart of the sample system were loaded, along with the storage assembly that will hold them, aboard NASA's Perseverance rover on May 20 at Kennedy Space Center in Florida. (The other four tubes had already been loaded into different locations in the Sample Caching System.) The integration of the final tubes marks another key step in preparation for the opening of the rover's launch period on July 17.\n",
      "\"While you cannot help but marvel at what was achieved back in the days of Apollo, they did have one thing going for them we don't: boots on the ground,\" said Adam Steltzner, chief engineer for the Mars 2020 Perseverance rover mission at NASA's Jet Propulsion Laboratory in Southern California. \"For us to collect the first samples of Mars for return to Earth, in place of two astronauts we have three robots that have to work with the precision of a Swiss watch.\"\n",
      "\n",
      "\n",
      "\n",
      "\n",
      "\n",
      "Mars 2020 Perseverance Rover Sample Cache System: Engineers test the Sample Caching System on the Perseverance Mars rover. Described as one of the most complex robotic systems ever built, the Sample and Caching System will collect core samples from the rocky surface of Mars, seal them in tubes and leave them for a future mission to retrieve and bring back to Earth. Credits: NASA/JPL-Caltech. Download video ›\n",
      "\n",
      "\n",
      "While many people think of the Perseverance rover as one robot, it's actually akin to a collection of robots working together. Located on the front of the Perseverance rover, the Sample Caching System itself is composed of three robots, the most visible being the rover's 7-foot-long (2-meter-long) robotic arm. Bolted to the front of the rover's chassis, the five-jointed arm carries a large turret that includes a rotary percussive drill to collect core samples of Mars rock and regolith (broken rock and dust).\n",
      "The second robot looks like a small flying saucer built into the front of the rover. Called the bit carousel, this appliance is the ultimate middleman for all Mars sample transactions: It will provide drill bits and empty sample tubes to the drill and will later move the sample-filled tubes into the rover chassis for assessment and processing.\n",
      "The third robot in the Sample Caching System is the 1.6-foot-long (0.5 meter-long) sample handling arm (known by the team as the \"T. rex arm\"). Located in the belly of the rover, it picks up where the bit carousel leaves off, moving sample tubes between storage and documentation stations as well as the bit carousel.\n",
      "Clocklike Precision\n",
      "All of these robots need to run with clocklike precision. But where the typical Swiss chronometer has fewer than 400 parts, the Sample Caching System has more than 3,000.\n",
      "\"It sounds like a lot, but you begin to realize the need for complexity when you consider the Sample Caching System is tasked with autonomously drilling into Mars rock, pulling out intact core samples and then sealing them hermetically in hyper-sterile vessels that are essentially free of any Earth-originating organic material that could get in the way of future analysis,\" said Steltzner. \"In terms of technology, it is the most complicated, most sophisticated mechanism that we have ever built, tested and readied for spaceflight.\"\n",
      "The mission's goal is to collect a dozen or more samples. So how does this three-robot, steamer-trunk-sized labyrinthine collection of motors, planetary gearboxes, encoders and other devices all meticulously work together to take them?\n",
      "\n",
      "\n",
      "\n",
      "\n",
      "\n",
      "\n",
      "Tubes for Mars: Engineers and technicians working on the Mars 2020 Perseverance team insert 39 sample tubes into the belly of the rover. Credit: NASA/JPL-Caltech. Download image ›\n",
      "\n",
      "\n",
      "\n",
      "\"Essentially, after our rotary percussive drill takes a core sample, it will turn around and dock with one of the four docking cones of the bit carousel,\" said Steltzner. \"Then the bit carousel rotates that Mars-filled drill bit and a sample tube down inside the rover to a location where our sample handling arm can grab it. That arm pulls the filled sample tube out of the drill bit and takes it to be imaged by a camera inside the Sample Caching System.\"\n",
      "After the sample tube is imaged, the small robotic arm moves it to the volume assessment station, where a ramrod pushes down into the sample to gauge its size. \"Then we go back and take another image,\" said Steltzner. \"After that, we pick up a seal — a little plug — for the top of the sample tube and go back to take yet another image.\"\n",
      "Next, the Sample Caching System places the tube in the sealing station, where a mechanism hermetically seals the tube with the cap. \"Then we take the tube out,\" added Steltzner, \"and we return it to storage from where it first began.\"\n",
      "Getting the system designed and manufactured, then integrated into Perseverance has been a seven-year endeavor. And the work isn't done. As with everything else on the rover, there are two versions of the Sample Caching System: an engineering test model that will stay here on Earth and the flight model that will travel to Mars.\n",
      "\"The engineering model is identical in every way possible to the flight model, and it's our job to try to break it,\" said Kelly Palm, the Sample Caching System integration engineer and Mars 2020 test lead at JPL. \"We do that because we would rather see things wear out or break on Earth than on Mars. So we put the engineering test model through its paces to inform our use of its flight twin on Mars.\"\n",
      "To that end, the team uses different rocks to simulate types of terrain. They drill them from various angles to anticipate any imaginable situation the rover could be in where the science team might want to gather a sample.\n",
      "\"Every once in a while, I have to take a minute and contemplate what we are doing,\" said Palm. \"Just a few years ago I was in college. Now I am working on the system that will be responsible for collecting the first samples from another planet for return to Earth. That is pretty awesome.\"\n",
      "About the Mission\n",
      "Perseverance is a robotic scientist weighing about 2,260 pounds (1,025 kilograms). The rover's astrobiology mission will search for signs of past microbial life. It will characterize the planet's climate and geology, collect samples for future return to Earth, and pave the way for human exploration of the Red Planet. No matter what day Perseverance lifts off during its July 17-Aug. 11 launch period, it will land at Mars' Jezero Crater on Feb. 18, 2021.\n",
      "The two subsequent (follow-on) missions required to return the mission's collected samples to Earth are currently being planned by NASA and the European Space Agency.\n",
      "The Mars 2020 Perseverance rover mission is part of a larger program that includes missions to the Moon as a way to prepare for human exploration of the Red Planet. Charged with returning astronauts to the Moon by 2024, NASA will establish a sustained human presence on and around the Moon by 2028 through the agency's Artemis lunar exploration plans.\n",
      "For more about Perseverance:\n",
      "https://mars.nasa.gov/mars2020/\n",
      "https://nasa.gov/perseverance\n",
      "News Media Contact\n",
      "DC Agle\n",
      "Jet Propulsion Laboratory, Pasadena, Calif.\n",
      "818-393-9011\n",
      "agle@jpl.nasa.gov\n",
      "\n",
      "Alana Johnson / Grey Hautaluoma\n",
      "NASA Headquarters, Washington\n",
      "202-672-4780 / 202-358-0668\n",
      "alana.r.johnson@nasa.gov / grey.hautaluoma-1@nasa.gov\n",
      "\n"
     ]
    }
   ],
   "source": [
    "\n",
    "url_2= 'https://mars.nasa.gov/news/8682/the-extraordinary-sample-gathering-system-of-nasas-perseverance-mars-rover/'\n",
    "browser.visit(url_2)\n",
    "\n",
    "for x in range (1,6):\n",
    "    html = browser.html\n",
    "    soup= bs(html, 'html.parser')\n",
    "    paragraph = soup.find_all('div', class_='wysiwyg_content')\n",
    "    for para in paragraph:\n",
    "        print(para.text)"
   ]
  },
  {
   "cell_type": "markdown",
   "metadata": {},
   "source": [
    "### JPL Mars Space Images - Featured Image"
   ]
  },
  {
   "cell_type": "markdown",
   "metadata": {},
   "source": [
    "#### Creating an executable path using splinters"
   ]
  },
  {
   "cell_type": "code",
   "execution_count": 20,
   "metadata": {},
   "outputs": [],
   "source": [
    "executable_path = {'executable_path': 'chromedriver.exe'}\n",
    "browser = Browser('chrome', **executable_path, headless=False)"
   ]
  },
  {
   "cell_type": "markdown",
   "metadata": {},
   "source": [
    "#### Storing the URL in a variable"
   ]
  },
  {
   "cell_type": "code",
   "execution_count": 24,
   "metadata": {},
   "outputs": [],
   "source": [
    "url_3='https://www.jpl.nasa.gov/spaceimages/images/wallpaper/'\n",
    "browser.visit(url_3)"
   ]
  },
  {
   "cell_type": "code",
   "execution_count": 60,
   "metadata": {},
   "outputs": [
    {
     "name": "stdout",
     "output_type": "stream",
     "text": [
      "[<img class=\"fancybox-image\" src=\"/spaceimages/images/mediumsize/PIA15883_ip.jpg\" style=\"display: inline;\"/>]\n",
      "/spaceimages/images/mediumsize/PIA15883_ip.jpg\n"
     ]
    },
    {
     "data": {
      "text/plain": [
       "('featured_image1.jpg', <http.client.HTTPMessage at 0x1dddf66c320>)"
      ]
     },
     "execution_count": 60,
     "metadata": {},
     "output_type": "execute_result"
    }
   ],
   "source": [
    "html = browser.html\n",
    "soup= bs(html, 'html.parser')\n",
    "featured_image = soup.find_all(\"img\", class_=\"fancybox-image\")\n",
    "print(featured_image)\n",
    "for image in featured_image:\n",
    "     print(image.get('src'))\n"
   ]
  },
  {
   "cell_type": "markdown",
   "metadata": {},
   "source": [
    "### Mars Weather"
   ]
  },
  {
   "cell_type": "markdown",
   "metadata": {},
   "source": [
    "#### Creating an executable path using splinters"
   ]
  },
  {
   "cell_type": "code",
   "execution_count": 263,
   "metadata": {},
   "outputs": [],
   "source": [
    "executable_path = {'executable_path': 'chromedriver.exe'}\n",
    "browser = Browser('chrome', **executable_path, headless=False)"
   ]
  },
  {
   "cell_type": "markdown",
   "metadata": {},
   "source": [
    "#### Assigning a variable tot he URL"
   ]
  },
  {
   "cell_type": "code",
   "execution_count": 264,
   "metadata": {},
   "outputs": [],
   "source": [
    "url_4='https://twitter.com/MarsWxReport/status/1269129701097967616'\n",
    "browser.visit(url_4)"
   ]
  },
  {
   "cell_type": "markdown",
   "metadata": {},
   "source": [
    "#### Retrieving the current weather from twitter tweets"
   ]
  },
  {
   "cell_type": "code",
   "execution_count": 265,
   "metadata": {},
   "outputs": [
    {
     "data": {
      "text/plain": [
       "'InSight sol 542 (2020-06-05) low -92.2ºC (-134.0ºF) high 0.0ºC (32.0ºF)\\nwinds from the SW at 5.2 m/s (11.6 mph) gusting to 18.3 m/s (41.0 mph)\\npressure at 7.30 hPa'"
      ]
     },
     "execution_count": 265,
     "metadata": {},
     "output_type": "execute_result"
    }
   ],
   "source": [
    "html = browser.html\n",
    "soup = bs(html, 'lxml')\n",
    "spans = soup.select('div.css-1dbjc4n span')\n",
    "spans = [span.text for span in spans]\n",
    "spans[12]\n"
   ]
  },
  {
   "cell_type": "code",
   "execution_count": 270,
   "metadata": {},
   "outputs": [],
   "source": [
    "# weather_txt=tables[2].to_txt('marsweather.txt')\n",
    "\n",
    "output_path = os.path.join(\"templates\",\"marsweather.txt\")\n",
    "text_file = open(\"output_path\", \"w\")\n",
    "n = text_file.write(spans[12])\n",
    "text_file.close()"
   ]
  },
  {
   "cell_type": "markdown",
   "metadata": {},
   "source": [
    "### Mars Facts"
   ]
  },
  {
   "cell_type": "markdown",
   "metadata": {},
   "source": [
    "#### Assigning a variable to the URL"
   ]
  },
  {
   "cell_type": "code",
   "execution_count": 66,
   "metadata": {},
   "outputs": [],
   "source": [
    "url_5='https://space-facts.com/mars/'"
   ]
  },
  {
   "cell_type": "code",
   "execution_count": 166,
   "metadata": {},
   "outputs": [
    {
     "data": {
      "text/html": [
       "<div>\n",
       "<style scoped>\n",
       "    .dataframe tbody tr th:only-of-type {\n",
       "        vertical-align: middle;\n",
       "    }\n",
       "\n",
       "    .dataframe tbody tr th {\n",
       "        vertical-align: top;\n",
       "    }\n",
       "\n",
       "    .dataframe thead th {\n",
       "        text-align: right;\n",
       "    }\n",
       "</style>\n",
       "<table border=\"1\" class=\"dataframe\">\n",
       "  <thead>\n",
       "    <tr style=\"text-align: right;\">\n",
       "      <th></th>\n",
       "      <th>Value</th>\n",
       "    </tr>\n",
       "    <tr>\n",
       "      <th>Description</th>\n",
       "      <th></th>\n",
       "    </tr>\n",
       "  </thead>\n",
       "  <tbody>\n",
       "    <tr>\n",
       "      <th>Equatorial Diameter:</th>\n",
       "      <td>6,792 km</td>\n",
       "    </tr>\n",
       "    <tr>\n",
       "      <th>Polar Diameter:</th>\n",
       "      <td>6,752 km</td>\n",
       "    </tr>\n",
       "    <tr>\n",
       "      <th>Mass:</th>\n",
       "      <td>6.39 × 10^23 kg (0.11 Earths)</td>\n",
       "    </tr>\n",
       "    <tr>\n",
       "      <th>Moons:</th>\n",
       "      <td>2 (Phobos &amp; Deimos)</td>\n",
       "    </tr>\n",
       "    <tr>\n",
       "      <th>Orbit Distance:</th>\n",
       "      <td>227,943,824 km (1.38 AU)</td>\n",
       "    </tr>\n",
       "    <tr>\n",
       "      <th>Orbit Period:</th>\n",
       "      <td>687 days (1.9 years)</td>\n",
       "    </tr>\n",
       "    <tr>\n",
       "      <th>Surface Temperature:</th>\n",
       "      <td>-87 to -5 °C</td>\n",
       "    </tr>\n",
       "    <tr>\n",
       "      <th>First Record:</th>\n",
       "      <td>2nd millennium BC</td>\n",
       "    </tr>\n",
       "    <tr>\n",
       "      <th>Recorded By:</th>\n",
       "      <td>Egyptian astronomers</td>\n",
       "    </tr>\n",
       "  </tbody>\n",
       "</table>\n",
       "</div>"
      ],
      "text/plain": [
       "                                              Value\n",
       "Description                                        \n",
       "Equatorial Diameter:                       6,792 km\n",
       "Polar Diameter:                            6,752 km\n",
       "Mass:                 6.39 × 10^23 kg (0.11 Earths)\n",
       "Moons:                          2 (Phobos & Deimos)\n",
       "Orbit Distance:            227,943,824 km (1.38 AU)\n",
       "Orbit Period:                  687 days (1.9 years)\n",
       "Surface Temperature:                   -87 to -5 °C\n",
       "First Record:                     2nd millennium BC\n",
       "Recorded By:                   Egyptian astronomers"
      ]
     },
     "execution_count": 166,
     "metadata": {},
     "output_type": "execute_result"
    }
   ],
   "source": [
    "tables = pd.read_html(url_5)\n",
    "#print(type(tables))\n",
    "tables[2]\n",
    "tables[2].columns=['Description', 'Value']\n",
    "tables[2].set_index('Description', inplace=True)\n",
    "tables[2]"
   ]
  },
  {
   "cell_type": "markdown",
   "metadata": {},
   "source": [
    "#### Writing the dataframe into a html for easy access in webpage"
   ]
  },
  {
   "cell_type": "code",
   "execution_count": 251,
   "metadata": {},
   "outputs": [],
   "source": [
    "html=tables[2].to_html('marstable.html')\n"
   ]
  },
  {
   "cell_type": "markdown",
   "metadata": {},
   "source": [
    "### Mars Hemispheres"
   ]
  },
  {
   "cell_type": "markdown",
   "metadata": {},
   "source": [
    "#### Creating an executable path using splinters"
   ]
  },
  {
   "cell_type": "code",
   "execution_count": 62,
   "metadata": {},
   "outputs": [],
   "source": [
    "executable_path = {'executable_path': 'chromedriver.exe'}\n",
    "browser = Browser('chrome', **executable_path, headless=False)"
   ]
  },
  {
   "cell_type": "markdown",
   "metadata": {},
   "source": [
    "#### Assigning a variable to the URL"
   ]
  },
  {
   "cell_type": "code",
   "execution_count": 63,
   "metadata": {},
   "outputs": [],
   "source": [
    "url_6='https://astrogeology.usgs.gov/search/results?q=hemisphere+enhanced&k1=target&v1=Mars'\n",
    "browser.visit(url_6)"
   ]
  },
  {
   "cell_type": "code",
   "execution_count": 66,
   "metadata": {},
   "outputs": [
    {
     "name": "stdout",
     "output_type": "stream",
     "text": [
      "[<img alt=\"USGS: Science for a Changing World\" class=\"logo\" height=\"60\" src=\"/images/usgs_logo_main_2x.png\"/>, <img alt=\"NASA\" class=\"logo\" height=\"65\" src=\"/images/logos/nasa-logo-web-med.png\"/>, <img alt=\"PDS Cartography and Imaging Science Node\" class=\"logo\" height=\"65\" src=\"/images/pds_logo-invisible-web.png\"/>, <img alt=\"Astropedia\" src=\"/images/astropedia/astropedia-logo-main.png\" style=\"width:200px;border:none;float:right;\"/>, <img alt=\"Cerberus Hemisphere Enhanced thumbnail\" class=\"thumb\" src=\"/cache/images/39d3266553462198bd2fbc4d18fbed17_cerberus_enhanced.tif_thumb.png\"/>, <img alt=\"Schiaparelli Hemisphere Enhanced thumbnail\" class=\"thumb\" src=\"/cache/images/08eac6e22c07fb1fe72223a79252de20_schiaparelli_enhanced.tif_thumb.png\"/>, <img alt=\"Syrtis Major Hemisphere Enhanced thumbnail\" class=\"thumb\" src=\"/cache/images/55a0a1e2796313fdeafb17c35925e8ac_syrtis_major_enhanced.tif_thumb.png\"/>, <img alt=\"Valles Marineris Hemisphere Enhanced thumbnail\" class=\"thumb\" src=\"/cache/images/4e59980c1c57f89c680c0e1ccabbeff1_valles_marineris_enhanced.tif_thumb.png\"/>, <img alt=\"ISIS Logo\" height=\"112\" src=\"/images/logos/isis_2x.jpg\" width=\"112\"/>, <img alt=\"Nomenclature Logo\" height=\"112\" src=\"/images/logos/nomenclature_2x.jpg\" width=\"112\"/>, <img alt=\"Map-a-Planet Logo\" height=\"112\" src=\"/images/logos/map_a_planet_2x.jpg\" width=\"112\"/>, <img alt=\"PDS Logo\" height=\"112\" src=\"/images/pds_logo-black-web.png\"/>, <img alt=\"RPIF Logo\" height=\"112\" src=\"/images/logos/rpif_2x.jpg\" width=\"112\"/>, <img alt=\"Photogrammetry Guest Faciltiy Logo\" height=\"112\" src=\"/images/logos/photogrammetry_2x.jpg\" width=\"112\"/>, <img alt=\"Pilot Logo\" height=\"112\" src=\"/images/logos/pilot_2x.jpg\" width=\"112\"/>, <img alt=\"MRCTR GIS Lab Logo\" height=\"112\" src=\"/images/logos/mrctr_man_2x.png\" width=\"112\"/>]\n",
      "/images/usgs_logo_main_2x.png\n",
      "/images/logos/nasa-logo-web-med.png\n",
      "/images/pds_logo-invisible-web.png\n",
      "/images/astropedia/astropedia-logo-main.png\n",
      "/cache/images/39d3266553462198bd2fbc4d18fbed17_cerberus_enhanced.tif_thumb.png\n",
      "/cache/images/08eac6e22c07fb1fe72223a79252de20_schiaparelli_enhanced.tif_thumb.png\n",
      "/cache/images/55a0a1e2796313fdeafb17c35925e8ac_syrtis_major_enhanced.tif_thumb.png\n",
      "/cache/images/4e59980c1c57f89c680c0e1ccabbeff1_valles_marineris_enhanced.tif_thumb.png\n",
      "/images/logos/isis_2x.jpg\n",
      "/images/logos/nomenclature_2x.jpg\n",
      "/images/logos/map_a_planet_2x.jpg\n",
      "/images/pds_logo-black-web.png\n",
      "/images/logos/rpif_2x.jpg\n",
      "/images/logos/photogrammetry_2x.jpg\n",
      "/images/logos/pilot_2x.jpg\n",
      "/images/logos/mrctr_man_2x.png\n"
     ]
    }
   ],
   "source": [
    "html = browser.html\n",
    "soup= bs(html, 'html.parser')\n",
    "hemisphere_image = soup.find_all('img')\n",
    "print(hemisphere_image)\n",
    "for image in hemisphere_image:\n",
    "    print(image.get('src'))"
   ]
  },
  {
   "cell_type": "code",
   "execution_count": null,
   "metadata": {},
   "outputs": [],
   "source": []
  },
  {
   "cell_type": "code",
   "execution_count": null,
   "metadata": {},
   "outputs": [],
   "source": []
  }
 ],
 "metadata": {
  "kernelspec": {
   "display_name": "Python [conda env:PythonData] *",
   "language": "python",
   "name": "conda-env-PythonData-py"
  },
  "language_info": {
   "codemirror_mode": {
    "name": "ipython",
    "version": 3
   },
   "file_extension": ".py",
   "mimetype": "text/x-python",
   "name": "python",
   "nbconvert_exporter": "python",
   "pygments_lexer": "ipython3",
   "version": "3.6.10"
  },
  "toc": {
   "base_numbering": 1,
   "nav_menu": {},
   "number_sections": true,
   "sideBar": false,
   "skip_h1_title": false,
   "title_cell": "Contents",
   "title_sidebar": "Contents",
   "toc_cell": true,
   "toc_position": {},
   "toc_section_display": false,
   "toc_window_display": false
  }
 },
 "nbformat": 4,
 "nbformat_minor": 2
}
